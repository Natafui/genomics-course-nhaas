{
 "cells": [
  {
   "cell_type": "markdown",
   "id": "76381189",
   "metadata": {},
   "source": [
    "# Lab 7: git and GitHub\n",
    "\n",
    "Name:     NHaas_lab7.py\n",
    "\n",
    "Author:   Natalie Haas\n",
    "\n",
    "Date:     10/25/2021\n",
    "\n",
    "Description: What computational reproducibility is and why it is useful, how version control can increase computational reproducibility, to set up git on your computer, to use git and github to track changes to your work over time\n",
    "\n",
    "Usage: python NHaas_lab7.py"
   ]
  },
  {
   "cell_type": "markdown",
   "id": "9b9ec394",
   "metadata": {},
   "source": [
    "### Being Careful with Filenames\n",
    "\n",
    "filenames can be a lot sometimes and if accidentally overused, can overwrite old important work. This is why **file versions** are very important and commonly used. **version control** allows for old versions to be kept intact, while still being able to create updates and changes in new versions.\n",
    "\n",
    "### Version control in git and GitHub\n",
    "\n",
    "**git:** $\\;\\;\\;\\;\\;\\;\\;\\;\\;$ version control software used to track files in a folder (a repository)\n",
    "\n",
    "$\\;\\;\\;\\;\\;\\;\\;\\;\\;\\;\\;\\;\\;\\;\\;$ - $\\;$ git creates the versioned history of a repository\n",
    "\n",
    "**GitHub:** $\\;\\;\\;$ web site that allows users to store their git repositories and share them with others"
   ]
  },
  {
   "cell_type": "markdown",
   "id": "7e1d9cf7",
   "metadata": {},
   "source": [
    "### Making a GitHub account!\n",
    "\n",
    "I actually had already made one for the HGA course last semester, as I created a fork to stay up-to-date with the lab files\n",
    "\n",
    "Username: Natafui\n",
    "\n",
    "I succesfully made a personal access token!\n",
    "\n",
    "### Cloning a Repository\n",
    "\n",
    "Using GitHub already installed on my computer, I cloned the course repository using the terminal.\n",
    "\n",
    "To update the directory while inside it, use the following commands:\n",
    "\n",
    "cd EvoGeno2021Py\n",
    "\n",
    "git pull"
   ]
  },
  {
   "cell_type": "markdown",
   "id": "f01507ec",
   "metadata": {},
   "source": [
    "### Making my own Repository\n",
    "\n",
    "I will be naming it genomics-course-nhaas\n",
    "\n",
    "I created a separate test notebook to add to the repository:\n",
    "\n",
    "$\\;\\;\\;\\;$ test_nhaas.ipynb\n",
    "\n",
    "and I used the commands:\n",
    "\n",
    "$\\;\\;\\;\\;$ cd genomics-course-nhaas\n",
    "\n",
    "$\\;\\;\\;\\;$ git pull\n",
    "\n",
    "$\\;\\;\\;\\;$ git add test_nhaas.ipynb\n",
    "\n",
    "$\\;\\;\\;\\;$ git commit\n",
    "\n",
    "$\\;\\;\\;\\;$ git push\n",
    "\n",
    "I also created a separate test notebook to remove from the repository:\n",
    "\n",
    "$\\;\\;\\;\\;$ example.ipynb\n",
    "\n",
    "and I used the commands:\n",
    "\n",
    "$\\;\\;\\;\\;$ cd genomics-course-nhaas\n",
    "\n",
    "$\\;\\;\\;\\;$ git pull\n",
    "\n",
    "$\\;\\;\\;\\;$ git rm example.ipynb\n",
    "\n",
    "$\\;\\;\\;\\;$ git commit\n",
    "\n",
    "$\\;\\;\\;\\;$ git push"
   ]
  },
  {
   "cell_type": "markdown",
   "id": "f003b8ab",
   "metadata": {},
   "source": [
    "### Creating a GitHub Website\n",
    "\n",
    "I have created a GitHub website! [https://natafui.github.io/genomics-course-nhaas/]"
   ]
  },
  {
   "cell_type": "code",
   "execution_count": null,
   "id": "c080a445",
   "metadata": {},
   "outputs": [],
   "source": []
  }
 ],
 "metadata": {
  "kernelspec": {
   "display_name": "Python 3 (ipykernel)",
   "language": "python",
   "name": "python3"
  },
  "language_info": {
   "codemirror_mode": {
    "name": "ipython",
    "version": 3
   },
   "file_extension": ".py",
   "mimetype": "text/x-python",
   "name": "python",
   "nbconvert_exporter": "python",
   "pygments_lexer": "ipython3",
   "version": "3.9.6"
  }
 },
 "nbformat": 4,
 "nbformat_minor": 5
}
